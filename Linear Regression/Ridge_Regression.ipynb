{
  "nbformat": 4,
  "nbformat_minor": 0,
  "metadata": {
    "colab": {
      "provenance": [],
      "authorship_tag": "ABX9TyOsMWxVeQndBwPDdxKJ87fE",
      "include_colab_link": true
    },
    "kernelspec": {
      "name": "python3",
      "display_name": "Python 3"
    },
    "language_info": {
      "name": "python"
    }
  },
  "cells": [
    {
      "cell_type": "markdown",
      "metadata": {
        "id": "view-in-github",
        "colab_type": "text"
      },
      "source": [
        "<a href=\"https://colab.research.google.com/github/Susovan88/Machine_Learning/blob/main/Linear%20Regression/Ridge_Regression.ipynb\" target=\"_parent\"><img src=\"https://colab.research.google.com/assets/colab-badge.svg\" alt=\"Open In Colab\"/></a>"
      ]
    },
    {
      "cell_type": "code",
      "execution_count": 18,
      "metadata": {
        "id": "FC5ltnCLZ5mh",
        "colab": {
          "base_uri": "https://localhost:8080/"
        },
        "outputId": "dbeef980-d28f-4b94-c9da-c5f3d4340a9a"
      },
      "outputs": [
        {
          "output_type": "execute_result",
          "data": {
            "text/plain": [
              "{'data': array([[ 0.03807591,  0.05068012,  0.06169621, ..., -0.00259226,\n",
              "          0.01990749, -0.01764613],\n",
              "        [-0.00188202, -0.04464164, -0.05147406, ..., -0.03949338,\n",
              "         -0.06833155, -0.09220405],\n",
              "        [ 0.08529891,  0.05068012,  0.04445121, ..., -0.00259226,\n",
              "          0.00286131, -0.02593034],\n",
              "        ...,\n",
              "        [ 0.04170844,  0.05068012, -0.01590626, ..., -0.01107952,\n",
              "         -0.04688253,  0.01549073],\n",
              "        [-0.04547248, -0.04464164,  0.03906215, ...,  0.02655962,\n",
              "          0.04452873, -0.02593034],\n",
              "        [-0.04547248, -0.04464164, -0.0730303 , ..., -0.03949338,\n",
              "         -0.00422151,  0.00306441]]),\n",
              " 'target': array([151.,  75., 141., 206., 135.,  97., 138.,  63., 110., 310., 101.,\n",
              "         69., 179., 185., 118., 171., 166., 144.,  97., 168.,  68.,  49.,\n",
              "         68., 245., 184., 202., 137.,  85., 131., 283., 129.,  59., 341.,\n",
              "         87.,  65., 102., 265., 276., 252.,  90., 100.,  55.,  61.,  92.,\n",
              "        259.,  53., 190., 142.,  75., 142., 155., 225.,  59., 104., 182.,\n",
              "        128.,  52.,  37., 170., 170.,  61., 144.,  52., 128.,  71., 163.,\n",
              "        150.,  97., 160., 178.,  48., 270., 202., 111.,  85.,  42., 170.,\n",
              "        200., 252., 113., 143.,  51.,  52., 210.,  65., 141.,  55., 134.,\n",
              "         42., 111.,  98., 164.,  48.,  96.,  90., 162., 150., 279.,  92.,\n",
              "         83., 128., 102., 302., 198.,  95.,  53., 134., 144., 232.,  81.,\n",
              "        104.,  59., 246., 297., 258., 229., 275., 281., 179., 200., 200.,\n",
              "        173., 180.,  84., 121., 161.,  99., 109., 115., 268., 274., 158.,\n",
              "        107.,  83., 103., 272.,  85., 280., 336., 281., 118., 317., 235.,\n",
              "         60., 174., 259., 178., 128.,  96., 126., 288.,  88., 292.,  71.,\n",
              "        197., 186.,  25.,  84.,  96., 195.,  53., 217., 172., 131., 214.,\n",
              "         59.,  70., 220., 268., 152.,  47.,  74., 295., 101., 151., 127.,\n",
              "        237., 225.,  81., 151., 107.,  64., 138., 185., 265., 101., 137.,\n",
              "        143., 141.,  79., 292., 178.,  91., 116.,  86., 122.,  72., 129.,\n",
              "        142.,  90., 158.,  39., 196., 222., 277.,  99., 196., 202., 155.,\n",
              "         77., 191.,  70.,  73.,  49.,  65., 263., 248., 296., 214., 185.,\n",
              "         78.,  93., 252., 150.,  77., 208.,  77., 108., 160.,  53., 220.,\n",
              "        154., 259.,  90., 246., 124.,  67.,  72., 257., 262., 275., 177.,\n",
              "         71.,  47., 187., 125.,  78.,  51., 258., 215., 303., 243.,  91.,\n",
              "        150., 310., 153., 346.,  63.,  89.,  50.,  39., 103., 308., 116.,\n",
              "        145.,  74.,  45., 115., 264.,  87., 202., 127., 182., 241.,  66.,\n",
              "         94., 283.,  64., 102., 200., 265.,  94., 230., 181., 156., 233.,\n",
              "         60., 219.,  80.,  68., 332., 248.,  84., 200.,  55.,  85.,  89.,\n",
              "         31., 129.,  83., 275.,  65., 198., 236., 253., 124.,  44., 172.,\n",
              "        114., 142., 109., 180., 144., 163., 147.,  97., 220., 190., 109.,\n",
              "        191., 122., 230., 242., 248., 249., 192., 131., 237.,  78., 135.,\n",
              "        244., 199., 270., 164.,  72.,  96., 306.,  91., 214.,  95., 216.,\n",
              "        263., 178., 113., 200., 139., 139.,  88., 148.,  88., 243.,  71.,\n",
              "         77., 109., 272.,  60.,  54., 221.,  90., 311., 281., 182., 321.,\n",
              "         58., 262., 206., 233., 242., 123., 167.,  63., 197.,  71., 168.,\n",
              "        140., 217., 121., 235., 245.,  40.,  52., 104., 132.,  88.,  69.,\n",
              "        219.,  72., 201., 110.,  51., 277.,  63., 118.,  69., 273., 258.,\n",
              "         43., 198., 242., 232., 175.,  93., 168., 275., 293., 281.,  72.,\n",
              "        140., 189., 181., 209., 136., 261., 113., 131., 174., 257.,  55.,\n",
              "         84.,  42., 146., 212., 233.,  91., 111., 152., 120.,  67., 310.,\n",
              "         94., 183.,  66., 173.,  72.,  49.,  64.,  48., 178., 104., 132.,\n",
              "        220.,  57.]),\n",
              " 'frame': None,\n",
              " 'DESCR': '.. _diabetes_dataset:\\n\\nDiabetes dataset\\n----------------\\n\\nTen baseline variables, age, sex, body mass index, average blood\\npressure, and six blood serum measurements were obtained for each of n =\\n442 diabetes patients, as well as the response of interest, a\\nquantitative measure of disease progression one year after baseline.\\n\\n**Data Set Characteristics:**\\n\\n:Number of Instances: 442\\n\\n:Number of Attributes: First 10 columns are numeric predictive values\\n\\n:Target: Column 11 is a quantitative measure of disease progression one year after baseline\\n\\n:Attribute Information:\\n    - age     age in years\\n    - sex\\n    - bmi     body mass index\\n    - bp      average blood pressure\\n    - s1      tc, total serum cholesterol\\n    - s2      ldl, low-density lipoproteins\\n    - s3      hdl, high-density lipoproteins\\n    - s4      tch, total cholesterol / HDL\\n    - s5      ltg, possibly log of serum triglycerides level\\n    - s6      glu, blood sugar level\\n\\nNote: Each of these 10 feature variables have been mean centered and scaled by the standard deviation times the square root of `n_samples` (i.e. the sum of squares of each column totals 1).\\n\\nSource URL:\\nhttps://www4.stat.ncsu.edu/~boos/var.select/diabetes.html\\n\\nFor more information see:\\nBradley Efron, Trevor Hastie, Iain Johnstone and Robert Tibshirani (2004) \"Least Angle Regression,\" Annals of Statistics (with discussion), 407-499.\\n(https://web.stanford.edu/~hastie/Papers/LARS/LeastAngle_2002.pdf)\\n',\n",
              " 'feature_names': ['age',\n",
              "  'sex',\n",
              "  'bmi',\n",
              "  'bp',\n",
              "  's1',\n",
              "  's2',\n",
              "  's3',\n",
              "  's4',\n",
              "  's5',\n",
              "  's6'],\n",
              " 'data_filename': 'diabetes_data_raw.csv.gz',\n",
              " 'target_filename': 'diabetes_target.csv.gz',\n",
              " 'data_module': 'sklearn.datasets.data'}"
            ]
          },
          "metadata": {},
          "execution_count": 18
        }
      ],
      "source": [
        "import numpy as np\n",
        "import pandas as pd\n",
        "import matplotlib.pyplot as plt\n",
        "from sklearn.datasets import load_diabetes\n",
        "\n",
        "data=load_diabetes()\n",
        "data"
      ]
    },
    {
      "cell_type": "code",
      "source": [
        "x=data.data\n",
        "y=data.target"
      ],
      "metadata": {
        "id": "vLqcamiPSIPs"
      },
      "execution_count": 21,
      "outputs": []
    },
    {
      "cell_type": "code",
      "source": [
        "from sklearn.model_selection import train_test_split\n",
        "from sklearn.linear_model import LinearRegression\n",
        "from sklearn.preprocessing import StandardScaler\n",
        "from sklearn.metrics import r2_score,root_mean_squared_error\n",
        "\n",
        "x_train,x_test,y_train,y_test=train_test_split(x,y,test_size=0.2,random_state=12)\n",
        "\n",
        "std=StandardScaler()\n",
        "x_train=std.fit_transform(x_train)\n",
        "x_test=std.transform(x_test)\n",
        "\n",
        "lr=LinearRegression()\n",
        "lr.fit(x_train,y_train)\n",
        "\n",
        "print(lr.coef_)\n",
        "print(lr.intercept_)\n",
        "\n",
        "y_pred=lr.predict(x_test)\n",
        "\n",
        "print(\"r2 : \",r2_score(y_test,y_pred))\n",
        "print(\"rmse : \",root_mean_squared_error(y_test,y_pred))"
      ],
      "metadata": {
        "colab": {
          "base_uri": "https://localhost:8080/"
        },
        "id": "RLlGPo9GSIMr",
        "outputId": "82da8b94-1647-4fd9-d87f-d9eb720dc5b5"
      },
      "execution_count": 22,
      "outputs": [
        {
          "output_type": "stream",
          "name": "stdout",
          "text": [
            "[ -2.6390011  -10.87646164  26.27230368  16.98933629 -36.20483217\n",
            "  20.88847451   4.56338925   8.88463457  34.37497437   5.40776313]\n",
            "153.3541076487252\n",
            "r2 :  0.3852693902152977\n",
            "rmse :  55.75127876997795\n"
          ]
        }
      ]
    },
    {
      "cell_type": "code",
      "source": [
        "from sklearn.linear_model import Ridge\n",
        "\n",
        "x_train,x_test,y_train,y_test=train_test_split(x,y,test_size=0.2,random_state=12)\n",
        "\n",
        "std=StandardScaler()\n",
        "x_train=std.fit_transform(x_train)\n",
        "x_test=std.transform(x_test)\n",
        "\n",
        "lr=Ridge(alpha=10)\n",
        "lr.fit(x_train,y_train)\n",
        "\n",
        "print(lr.coef_)\n",
        "print(lr.intercept_)\n",
        "\n",
        "y_pred=lr.predict(x_test)\n",
        "\n",
        "print(\"r2 : \",r2_score(y_test,y_pred))\n",
        "print(\"rmse : \",root_mean_squared_error(y_test,y_pred))"
      ],
      "metadata": {
        "colab": {
          "base_uri": "https://localhost:8080/"
        },
        "id": "Oa3F3isrSIJk",
        "outputId": "080eec59-6b53-4595-d0dd-a6f135388c02"
      },
      "execution_count": 34,
      "outputs": [
        {
          "output_type": "stream",
          "name": "stdout",
          "text": [
            "[ -2.35737358 -10.34068352  25.8501814   16.65193034  -9.15836568\n",
            "  -0.11777556  -7.07746583   5.97730266  23.74148535   5.67039012]\n",
            "153.3541076487252\n",
            "r2 :  0.38239195511361923\n",
            "rmse :  55.88160691491116\n"
          ]
        }
      ]
    },
    {
      "cell_type": "code",
      "source": [
        "class MyRidge:\n",
        "  def __init__(self,alpha=0.1):\n",
        "      self.m=None\n",
        "      self.b=None\n",
        "      self.alpha=alpha\n",
        "\n",
        "  def fit(self,x_train,y_train):\n",
        "    num=0\n",
        "    den=0\n",
        "    for i in range(x_train.shape[0]):\n",
        "      num=num+((y_train[i]-y_train.mean())*(x_train[i]-x_train.mean()))\n",
        "      den=den+((x_train[i]-x_train.mean())*(x_train[i]-x_train.mean()))\n",
        "\n",
        "    self.m=num/(den+ self.alpha)\n",
        "    self.b=y_train.mean()-(self.m*x_train.mean())\n",
        "\n",
        "  def predict(self,x_test):\n",
        "    y_pred=self.m*x_test+self.b\n",
        "    return y_pred"
      ],
      "metadata": {
        "id": "Mcn5SqthYr23"
      },
      "execution_count": 44,
      "outputs": []
    },
    {
      "cell_type": "code",
      "source": [
        "from sklearn.datasets import make_regression\n",
        "import matplotlib.pyplot as plt\n",
        "import numpy as np\n",
        "x,y = make_regression(n_samples=100, n_features=1, n_informative=1, n_targets=1,noise=20,random_state=13)\n",
        "plt.scatter(x,y)"
      ],
      "metadata": {
        "colab": {
          "base_uri": "https://localhost:8080/",
          "height": 448
        },
        "id": "hIObPTVkgd0D",
        "outputId": "10b27664-2565-46a2-9e55-f0f4eb7ff76c"
      },
      "execution_count": 72,
      "outputs": [
        {
          "output_type": "execute_result",
          "data": {
            "text/plain": [
              "<matplotlib.collections.PathCollection at 0x7c2e5ea611c0>"
            ]
          },
          "metadata": {},
          "execution_count": 72
        },
        {
          "output_type": "display_data",
          "data": {
            "text/plain": [
              "<Figure size 640x480 with 1 Axes>"
            ],
            "image/png": "[encoded data removed]"
          },
          "metadata": {}
        }
      ]
    },
    {
      "cell_type": "code",
      "source": [
        "x_train,x_test,y_train,y_test=train_test_split(x,y,test_size=0.2,random_state=12)\n",
        "\n",
        "lr=LinearRegression()\n",
        "lr.fit(x_train,y_train)\n",
        "\n",
        "print(lr.coef_)\n",
        "print(lr.intercept_)\n",
        "\n",
        "y_pred=lr.predict(x_test)\n",
        "\n",
        "print(\"r2 : \",r2_score(y_test,y_pred))\n",
        "print(\"rmse : \",root_mean_squared_error(y_test,y_pred))"
      ],
      "metadata": {
        "colab": {
          "base_uri": "https://localhost:8080/"
        },
        "id": "aXoN9KuwiqJj",
        "outputId": "3af370c5-c0da-4963-e5b3-4d4de62e6e9e"
      },
      "execution_count": 73,
      "outputs": [
        {
          "output_type": "stream",
          "name": "stdout",
          "text": [
            "[28.07637482]\n",
            "-3.5542386451751105\n",
            "r2 :  0.33021406456623015\n",
            "rmse :  16.490316711442436\n"
          ]
        }
      ]
    },
    {
      "cell_type": "code",
      "source": [
        "x_train,x_test,y_train,y_test=train_test_split(x,y,test_size=0.2,random_state=12)\n",
        "\n",
        "lr=MyRidge(alpha=18)\n",
        "lr.fit(x_train,y_train)\n",
        "\n",
        "print(lr.m)\n",
        "print(lr.b)\n",
        "\n",
        "y_pred=lr.predict(x_test)\n",
        "\n",
        "print(\"r2 : \",r2_score(y_test,y_pred))\n",
        "print(\"rmse : \",root_mean_squared_error(y_test,y_pred))"
      ],
      "metadata": {
        "colab": {
          "base_uri": "https://localhost:8080/"
        },
        "id": "r5ODxsuLiIiy",
        "outputId": "397da5b4-6586-4db2-a9d5-976ad6d8c3fc"
      },
      "execution_count": 74,
      "outputs": [
        {
          "output_type": "stream",
          "name": "stdout",
          "text": [
            "[22.92579806]\n",
            "[-3.34984798]\n",
            "r2 :  0.3325252568941036\n",
            "rmse :  16.46184102519731\n"
          ]
        }
      ]
    },
    {
      "cell_type": "code",
      "source": [
        "def testUsing_diff_alpha(x,y,alpha):\n",
        "    x_train,x_test,y_train,y_test=train_test_split(x,y,test_size=0.2,random_state=12)\n",
        "\n",
        "    plt.plot(x,y,'b.')\n",
        "    for i in range(alpha.shape[0]):\n",
        "      lr=MyRidge(alpha=alpha[i])\n",
        "      lr.fit(x_train,y_train)\n",
        "\n",
        "      y_pred=lr.predict(x_test)\n",
        "      print(\"alpha = \",alpha[i],\"  -> \",lr.m,lr.b)\n",
        "      print(\"r2 : \",r2_score(y_test,y_pred))\n",
        "      print(\"rmse : \",root_mean_squared_error(y_test,y_pred))\n",
        "\n",
        "      plt.plot(x,lr.predict(x),label=f\"alpha= {alpha[i]}\")\n",
        "\n",
        "    plt.legend()\n",
        "\n",
        "\n",
        "testUsing_diff_alpha(x,y,np.array([1,10,18,30,100]))"
      ],
      "metadata": {
        "colab": {
          "base_uri": "https://localhost:8080/",
          "height": 698
        },
        "id": "809vTYhNgqQa",
        "outputId": "2ba348f2-ae12-4941-ce9b-5f97fa5f5ec3"
      },
      "execution_count": 81,
      "outputs": [
        {
          "output_type": "stream",
          "name": "stdout",
          "text": [
            "alpha =  1   ->  [27.7302658] [-3.54050398]\n",
            "r2 :  0.33175376921214783\n",
            "rmse :  16.471351826939767\n",
            "alpha =  10   ->  [24.96093259] [-3.43060835]\n",
            "r2 :  0.33689059841881774\n",
            "rmse :  16.407921802103246\n",
            "alpha =  18   ->  [22.92579806] [-3.34984798]\n",
            "r2 :  0.3325252568941036\n",
            "rmse :  16.46184102519731\n",
            "alpha =  30   ->  [20.42752798] [-3.25070897]\n",
            "r2 :  0.3177374807589842\n",
            "rmse :  16.643196534031542\n",
            "alpha =  100   ->  [12.48878314] [-2.93567526]\n",
            "r2 :  0.2017652426159794\n",
            "rmse :  18.002229833370173\n"
          ]
        },
        {
          "output_type": "display_data",
          "data": {
            "text/plain": [
              "<Figure size 640x480 with 1 Axes>"
            ],
            "image/png": "[encoded data removed]"
          },
          "metadata": {}
        }
      ]
    },
    {
      "cell_type": "markdown",
      "source": [
        "**Ridge Regression for n dimension data**"
      ],
      "metadata": {
        "id": "fLgtBloIsU7B"
      }
    },
    {
      "cell_type": "code",
      "source": [
        "## Normally, Ridge does not penalize the intercept.\n",
        "##If you add a column of ones, the identity matrix I will also penalize that first column.\n",
        "## Fix → set I[0,0] = 0 so the intercept is not regularized.\n",
        "\n",
        "class MyRidge_nDimension:\n",
        "  def __init__(self,alpha=0.1):\n",
        "      self.coef_=None\n",
        "      self.intercept_=None\n",
        "      self.alpha=alpha\n",
        "\n",
        "  def fit(self,x_train,y_train):\n",
        "    x_train=np.insert(x_train,0,1,axis=1)\n",
        "    I=np.identity(x_train.shape[1])\n",
        "    I[0,0]=0  ##  so the intercept is not regularized.\n",
        "    result=np.linalg.inv((x_train.T.dot(x_train))+self.alpha * I).dot(np.dot(x_train.T,y_train))\n",
        "    self.coef_=result[1:]\n",
        "    self.intercept_=result[0]\n",
        "\n",
        "  def predict(self,x_test):\n",
        "    return np.dot(x_test,self.coef_) + self.intercept_"
      ],
      "metadata": {
        "id": "vAYkfQNgkSye"
      },
      "execution_count": 89,
      "outputs": []
    },
    {
      "cell_type": "code",
      "source": [
        "from sklearn.datasets import load_diabetes\n",
        "x,y = load_diabetes(return_X_y=True)\n",
        "x_train,x_test,y_train,y_test=train_test_split(x,y,test_size=0.2,random_state=12)\n",
        "\n",
        "std=StandardScaler()\n",
        "x_train=std.fit_transform(x_train)\n",
        "x_test=std.transform(x_test)\n",
        "\n",
        "lr=MyRidge_nDimension(alpha=6)\n",
        "lr.fit(x_train,y_train)\n",
        "\n",
        "print(lr.coef_)\n",
        "print(lr.intercept_)\n",
        "\n",
        "y_pred=lr.predict(x_test)\n",
        "\n",
        "print(\"r2 : \",r2_score(y_test,y_pred))\n",
        "print(\"rmse : \",root_mean_squared_error(y_test,y_pred))"
      ],
      "metadata": {
        "colab": {
          "base_uri": "https://localhost:8080/"
        },
        "id": "SX27KhwFkSvw",
        "outputId": "fe7d33e7-b5aa-4746-ec80-8e110028dbb4"
      },
      "execution_count": 92,
      "outputs": [
        {
          "output_type": "stream",
          "name": "stdout",
          "text": [
            "[ -2.44607431 -10.52830495  26.0657526   16.79252145 -12.69381931\n",
            "   2.5507387   -5.63313049   6.25556348  25.29111985   5.59477852]\n",
            "153.35410764872526\n",
            "r2 :  0.38267442234690174\n",
            "rmse :  55.86882653724871\n"
          ]
        }
      ]
    },
    {
      "cell_type": "code",
      "source": [],
      "metadata": {
        "id": "_lc09pWqqqra"
      },
      "execution_count": null,
      "outputs": []
    }
  ]
}