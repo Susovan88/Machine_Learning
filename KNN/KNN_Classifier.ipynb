{
  "nbformat": 4,
  "nbformat_minor": 0,
  "metadata": {
    "colab": {
      "provenance": [],
      "authorship_tag": "ABX9TyMy0nDRdLIFHVzJXH/lWLK9",
      "include_colab_link": true
    },
    "kernelspec": {
      "name": "python3",
      "display_name": "Python 3"
    },
    "language_info": {
      "name": "python"
    }
  },
  "cells": [
    {
      "cell_type": "markdown",
      "metadata": {
        "id": "view-in-github",
        "colab_type": "text"
      },
      "source": [
        "<a href=\"https://colab.research.google.com/github/Susovan88/Machine_Learning/blob/main/KNN/KNN_Classifier.ipynb\" target=\"_parent\"><img src=\"https://colab.research.google.com/assets/colab-badge.svg\" alt=\"Open In Colab\"/></a>"
      ]
    },
    {
      "cell_type": "code",
      "execution_count": 189,
      "metadata": {
        "colab": {
          "base_uri": "https://localhost:8080/"
        },
        "id": "s0U2-x54mOGv",
        "outputId": "c637de2b-9121-4757-c34a-7e2c602de802"
      },
      "outputs": [
        {
          "output_type": "stream",
          "name": "stdout",
          "text": [
            "   sepal length (cm)  sepal width (cm)  petal length (cm)  petal width (cm)  \\\n",
            "0                5.1               3.5                1.4               0.2   \n",
            "1                4.9               3.0                1.4               0.2   \n",
            "2                4.7               3.2                1.3               0.2   \n",
            "3                4.6               3.1                1.5               0.2   \n",
            "4                5.0               3.6                1.4               0.2   \n",
            "5                5.4               3.9                1.7               0.4   \n",
            "6                4.6               3.4                1.4               0.3   \n",
            "7                5.0               3.4                1.5               0.2   \n",
            "8                4.4               2.9                1.4               0.2   \n",
            "\n",
            "   target species  \n",
            "0       0  setosa  \n",
            "1       0  setosa  \n",
            "2       0  setosa  \n",
            "3       0  setosa  \n",
            "4       0  setosa  \n",
            "5       0  setosa  \n",
            "6       0  setosa  \n",
            "7       0  setosa  \n",
            "8       0  setosa  \n"
          ]
        }
      ],
      "source": [
        "import pandas as pd\n",
        "import numpy as np\n",
        "from sklearn.datasets import load_iris\n",
        "\n",
        "iris = load_iris()\n",
        "X = iris.data\n",
        "y = iris.target\n",
        "\n",
        "df = pd.DataFrame(X, columns=iris.feature_names)\n",
        "\n",
        "df['target'] = y\n",
        "df['species'] = df['target'].map({i: name for i, name in enumerate(iris.target_names)})\n",
        "\n",
        "print(df.head(9))"
      ]
    },
    {
      "cell_type": "code",
      "source": [
        "X=df.iloc[:,:4]\n",
        "y=df.loc[:,'target']\n",
        "print(x.head(1))\n",
        "print(y.head(1))"
      ],
      "metadata": {
        "colab": {
          "base_uri": "https://localhost:8080/"
        },
        "id": "QQr2Wci5vM03",
        "outputId": "9b0e2ac6-717c-461f-aaad-9074b13bba7d"
      },
      "execution_count": 190,
      "outputs": [
        {
          "output_type": "stream",
          "name": "stdout",
          "text": [
            "   sepal length (cm)  sepal width (cm)  petal length (cm)  petal width (cm)\n",
            "0                5.1               3.5                1.4               0.2\n",
            "0    0\n",
            "Name: target, dtype: int64\n"
          ]
        }
      ]
    },
    {
      "cell_type": "code",
      "source": [
        "from sklearn.model_selection import train_test_split\n",
        "from sklearn.neighbors import KNeighborsClassifier\n",
        "from sklearn.metrics import accuracy_score\n",
        "from sklearn.preprocessing import StandardScaler\n",
        "\n",
        "X_train, X_test, y_train, y_test = train_test_split(X, y, test_size=0.2, random_state=2)\n",
        "\n",
        "std_scaler=StandardScaler()\n",
        "X_train=std_scaler.fit_transform(X_train)\n",
        "X_test=std_scaler.transform(X_test)\n",
        "\n",
        "knn = KNeighborsClassifier(n_neighbors=3)\n",
        "knn.fit(X_train, y_train)\n",
        "print(\"Accuracy:\", knn.score(X_test, y_test))"
      ],
      "metadata": {
        "colab": {
          "base_uri": "https://localhost:8080/"
        },
        "id": "uN0EQe8nnc7a",
        "outputId": "1f230864-0c1c-4dfc-abad-562756d1ed97"
      },
      "execution_count": 191,
      "outputs": [
        {
          "output_type": "stream",
          "name": "stdout",
          "text": [
            "Accuracy: 1.0\n"
          ]
        }
      ]
    },
    {
      "cell_type": "markdown",
      "source": [
        "# Own class Of KNN Classifier"
      ],
      "metadata": {
        "id": "j8RFAL1HF5H4"
      }
    },
    {
      "cell_type": "code",
      "source": [
        "from collections import Counter\n",
        "\n",
        "class Own_KNN_classifier:\n",
        "\n",
        "  def __init__(self,n_neighbors=5):\n",
        "    self.n_neighbors=n_neighbors\n",
        "    self.X_train=None\n",
        "    self.y_train=None\n",
        "\n",
        "  def fit(self,X_train,y_train):\n",
        "    self.X_train=X_train\n",
        "    self.y_train=y_train\n",
        "\n",
        "  def predict(self,X_test):\n",
        "    y_pred=[]\n",
        "    for i in X_test:\n",
        "      dist=[]\n",
        "      for j in self.X_train:\n",
        "        dist.append(self.claculate_dist(i,j))\n",
        "      K_sorted_list=sorted(list(enumerate(dist)),key=lambda x: x[1])[:self.n_neighbors]\n",
        "      win_value=self.mejority_count(K_sorted_list)\n",
        "      y_pred.append(win_value)\n",
        "    return np.array(y_pred)\n",
        "\n",
        "  def claculate_dist(self,point_a,point_b):\n",
        "    return np.linalg.norm(point_a-point_b)\n",
        "\n",
        "  def mejority_count(self,points):\n",
        "    votes=[self.y_train.iloc[i[0]] for i in points]\n",
        "    counter=Counter(votes)\n",
        "    return counter.most_common(1)[0][0]\n"
      ],
      "metadata": {
        "id": "Tt_tK278xgHX"
      },
      "execution_count": 192,
      "outputs": []
    },
    {
      "cell_type": "code",
      "source": [
        "knn = Own_KNN_classifier(n_neighbors=3)\n",
        "knn.fit(X_train, y_train)\n",
        "y_pred=knn.predict(X_test)\n",
        "\n",
        "accuracy_score(y_test,y_pred)"
      ],
      "metadata": {
        "colab": {
          "base_uri": "https://localhost:8080/"
        },
        "id": "145JYasazXLU",
        "outputId": "7d36aed3-f506-4b10-fd55-d12bebc1dcd3"
      },
      "execution_count": 193,
      "outputs": [
        {
          "output_type": "execute_result",
          "data": {
            "text/plain": [
              "1.0"
            ]
          },
          "metadata": {},
          "execution_count": 193
        }
      ]
    },
    {
      "cell_type": "code",
      "source": [
        "from sklearn.feature_selection import SelectKBest, f_classif\n",
        "X = df.iloc[:, :-1]  # features\n",
        "y = df['target']\n",
        "\n",
        "X_train, X_test, y_train, y_test = train_test_split(X, y, test_size=0.2, random_state=2)\n",
        "\n",
        "selector = SelectKBest(score_func=f_classif, k=2)\n",
        "X_train=selector.fit_transform(X_train,y_train)\n",
        "X_test=selector.transform(X_test)\n",
        "\n",
        "X_train.shape"
      ],
      "metadata": {
        "colab": {
          "base_uri": "https://localhost:8080/"
        },
        "id": "TO_tgRe2HYt9",
        "outputId": "63aadf6f-6311-465c-f765-8b0f7d4c1c00"
      },
      "execution_count": 204,
      "outputs": [
        {
          "output_type": "stream",
          "name": "stderr",
          "text": [
            "/usr/local/lib/python3.12/dist-packages/sklearn/feature_selection/_univariate_selection.py:112: RuntimeWarning: divide by zero encountered in divide\n",
            "  f = msb / msw\n"
          ]
        },
        {
          "output_type": "execute_result",
          "data": {
            "text/plain": [
              "(120, 2)"
            ]
          },
          "metadata": {},
          "execution_count": 204
        }
      ]
    },
    {
      "cell_type": "code",
      "source": [
        "knn = Own_KNN_classifier(n_neighbors=3)\n",
        "knn.fit(X_train, y_train)\n",
        "y_pred=knn.predict(X_test)\n",
        "\n",
        "accuracy_score(y_test,y_pred)"
      ],
      "metadata": {
        "colab": {
          "base_uri": "https://localhost:8080/"
        },
        "id": "zDzcTxryJXez",
        "outputId": "5b155b9a-ebfb-43cc-b7e4-3c14132e7ec5"
      },
      "execution_count": 205,
      "outputs": [
        {
          "output_type": "execute_result",
          "data": {
            "text/plain": [
              "1.0"
            ]
          },
          "metadata": {},
          "execution_count": 205
        }
      ]
    },
    {
      "cell_type": "markdown",
      "source": [
        "# Decision Boundary in KNN Classifier"
      ],
      "metadata": {
        "id": "UUMkWutOGqCv"
      }
    },
    {
      "cell_type": "code",
      "source": [
        "a=np.arange(start=X_train[:,0].min()-2,stop=X_train[:,0].max()+2,step=0.1)\n",
        "b=np.arange(start=X_train[:,1].min()-2,stop=X_train[:,:1].max()+2,step=0.1)\n",
        "print(a.shape,b.shape)"
      ],
      "metadata": {
        "colab": {
          "base_uri": "https://localhost:8080/"
        },
        "id": "7tFlO3j_GAMH",
        "outputId": "5f563fc1-e3b1-4f9c-d629-50d199564d5e"
      },
      "execution_count": 206,
      "outputs": [
        {
          "output_type": "stream",
          "name": "stdout",
          "text": [
            "(99,) (109,)\n"
          ]
        }
      ]
    },
    {
      "cell_type": "code",
      "source": [
        "XX,YY=np.meshgrid(a,b)\n",
        "print(XX.shape,YY.shape)"
      ],
      "metadata": {
        "colab": {
          "base_uri": "https://localhost:8080/"
        },
        "id": "TMi1THRnLsqu",
        "outputId": "9f73c32b-5da5-4bb5-c3ff-3ee3b0bff8de"
      },
      "execution_count": 207,
      "outputs": [
        {
          "output_type": "stream",
          "name": "stdout",
          "text": [
            "(109, 99) (109, 99)\n"
          ]
        }
      ]
    },
    {
      "cell_type": "code",
      "source": [
        "all_points=np.array([XX.ravel(),YY.ravel()]).T\n",
        "all_points.shape"
      ],
      "metadata": {
        "colab": {
          "base_uri": "https://localhost:8080/"
        },
        "id": "8j10s-3SM83w",
        "outputId": "09763b7f-5542-4006-a4e7-85ed79e98744"
      },
      "execution_count": 208,
      "outputs": [
        {
          "output_type": "execute_result",
          "data": {
            "text/plain": [
              "(10791, 2)"
            ]
          },
          "metadata": {},
          "execution_count": 208
        }
      ]
    },
    {
      "cell_type": "code",
      "source": [
        "votes=knn.predict(all_points)\n",
        "votes.shape"
      ],
      "metadata": {
        "colab": {
          "base_uri": "https://localhost:8080/"
        },
        "id": "MO9CYkjRNofe",
        "outputId": "9c6e4728-c647-4be2-fabd-911eb4a5c83f"
      },
      "execution_count": 209,
      "outputs": [
        {
          "output_type": "execute_result",
          "data": {
            "text/plain": [
              "(10791,)"
            ]
          },
          "metadata": {},
          "execution_count": 209
        }
      ]
    },
    {
      "cell_type": "code",
      "source": [
        "## ploting\n",
        "\n",
        "import matplotlib.pyplot as plt\n",
        "plt.contourf(XX,YY,votes.reshape(XX.shape),alpha=0.5)\n",
        "plt.scatter(X_train[:,0],X_train[:,1],c=y_train)\n",
        "plt.show()"
      ],
      "metadata": {
        "colab": {
          "base_uri": "https://localhost:8080/",
          "height": 430
        },
        "id": "Gjd7xIdiOT3V",
        "outputId": "1cb68a31-399b-41d0-dad8-77c9e11a6888"
      },
      "execution_count": 212,
      "outputs": [
        {
          "output_type": "display_data",
          "data": {
            "text/plain": [
              "<Figure size 640x480 with 1 Axes>"
            ],
            "image/png": "[encoded data removed]"
          },
          "metadata": {}
        }
      ]
    },
    {
      "cell_type": "code",
      "source": [
        "a=np.array([1,2,6,3])\n",
        "b=np.array([7,8,9])\n",
        "\n",
        "xx,yy=np.meshgrid(a,b)\n",
        "xx"
      ],
      "metadata": {
        "colab": {
          "base_uri": "https://localhost:8080/"
        },
        "id": "m5rlHqS_11UJ",
        "outputId": "c4b7add6-e60a-4b82-8300-96087cb4341d"
      },
      "execution_count": 201,
      "outputs": [
        {
          "output_type": "execute_result",
          "data": {
            "text/plain": [
              "array([[1, 2, 6, 3],\n",
              "       [1, 2, 6, 3],\n",
              "       [1, 2, 6, 3]])"
            ]
          },
          "metadata": {},
          "execution_count": 201
        }
      ]
    },
    {
      "cell_type": "code",
      "source": [
        "np.array([xx.ravel(),yy.ravel()]).T"
      ],
      "metadata": {
        "colab": {
          "base_uri": "https://localhost:8080/"
        },
        "id": "yX53myKY3kFg",
        "outputId": "9e07b975-1878-4780-9c57-b4154ba4a048"
      },
      "execution_count": 202,
      "outputs": [
        {
          "output_type": "execute_result",
          "data": {
            "text/plain": [
              "array([[1, 7],\n",
              "       [2, 7],\n",
              "       [6, 7],\n",
              "       [3, 7],\n",
              "       [1, 8],\n",
              "       [2, 8],\n",
              "       [6, 8],\n",
              "       [3, 8],\n",
              "       [1, 9],\n",
              "       [2, 9],\n",
              "       [6, 9],\n",
              "       [3, 9]])"
            ]
          },
          "metadata": {},
          "execution_count": 202
        }
      ]
    },
    {
      "cell_type": "code",
      "source": [],
      "metadata": {
        "id": "4QpnargE5RON"
      },
      "execution_count": 202,
      "outputs": []
    }
  ]
}